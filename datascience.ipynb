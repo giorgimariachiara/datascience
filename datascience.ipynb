{
 "cells": [
  {
   "cell_type": "markdown",
   "id": "8d2583ee",
   "metadata": {},
   "source": [
    "# Data science project of the group \"Ed Edd and Eddy\" "
   ]
  },
  {
   "cell_type": "markdown",
   "id": "d3c9cafb",
   "metadata": {},
   "source": [
    "# # Relational Database "
   ]
  },
  {
   "cell_type": "raw",
   "id": "3edfaa38",
   "metadata": {},
   "source": [
    "The first step of our project is the analysis of the data provided in order to understand what it is about, how they have been organized, what is the type of each column, and whether there are null object included in it. For doing so we used the ** DataFrame ** method ** info ** :"
   ]
  },
  {
   "cell_type": "code",
   "execution_count": null,
   "id": "8a1f8546",
   "metadata": {},
   "outputs": [],
   "source": [
    "from pandas import read_csv\n",
    "publications = read_csv(\"./relational_publication.csv\")\n",
    "publications.info()"
   ]
  },
  {
   "cell_type": "raw",
   "id": "87ca124a",
   "metadata": {},
   "source": [
    "# <class 'pandas.core.frame.DataFrame'>\n",
    "RangeIndex: 500 entries, 0 to 499\n",
    "Data columns (total 11 columns):\n",
    " #   Column             Non-Null Count  Dtype\n",
    "---  ------             --------------  -----\n",
    " 0   id                 500 non-null    string\n",
    " 1   title              500 non-null    string\n",
    " 2   type               500 non-null    string\n",
    " 3   publication_year   500 non-null    string\n",
    " 4   issue              347 non-null    string\n",
    " 5   volume             443 non-null    string\n",
    " 6   chapter            22 non-null     string\n",
    " 7   publication_venue  498 non-null    string\n",
    " 8   venue_type         498 non-null    string\n",
    " 9   publisher          498 non-null    string\n",
    " 10  event              0 non-null      string\n",
    "dtypes: string(11)"
   ]
  },
  {
   "cell_type": "raw",
   "id": "449b5c9d",
   "metadata": {},
   "source": [
    "then we used the method ** describe ** to obtain more information about the value of each column. "
   ]
  },
  {
   "cell_type": "code",
   "execution_count": null,
   "id": "1b91e3fd",
   "metadata": {},
   "outputs": [],
   "source": [
    "publication.describe(include=\"all\")"
   ]
  },
  {
   "cell_type": "markdown",
   "id": "1d95615c",
   "metadata": {},
   "source": [
    "As a starting point for the implementation of our relational database is the creation of the dataframes starting from the UML model provided, in order to describe all the entities we need. The strategiy that we adopted is to create a table for each class which does not have any sublasse. For this reason we created 6 tables: JournalArticle, BookChapter, ProceedingsPaper, Journal, Book, Proceedings. For each table we defined the primary and foreign key. \n",
    "\n",
    "\n",
    "For JournalArticle, BookChapter, ProceedingsPaper we used as primary key the doi, hence it is the unique identifier for each kind of publication. \n",
    "\n",
    "\n"
   ]
  }
 ],
 "metadata": {
  "kernelspec": {
   "display_name": "Python 3 (ipykernel)",
   "language": "python",
   "name": "python3"
  },
  "language_info": {
   "codemirror_mode": {
    "name": "ipython",
    "version": 3
   },
   "file_extension": ".py",
   "mimetype": "text/x-python",
   "name": "python",
   "nbconvert_exporter": "python",
   "pygments_lexer": "ipython3",
   "version": "3.10.0"
  }
 },
 "nbformat": 4,
 "nbformat_minor": 5
}
